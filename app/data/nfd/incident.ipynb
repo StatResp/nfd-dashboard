{
 "cells": [
  {
   "cell_type": "code",
   "execution_count": 16,
   "id": "1d19353a-0841-469f-9dfb-d1752ce77593",
   "metadata": {},
   "outputs": [],
   "source": [
    "import pandas as pd\n",
    "import pyarrow.parquet as pq"
   ]
  },
  {
   "cell_type": "code",
   "execution_count": 2,
   "id": "82ca0d75-9f68-42af-a02b-69f97a04f848",
   "metadata": {},
   "outputs": [],
   "source": [
    "from dask import dataframe as dd"
   ]
  },
  {
   "cell_type": "code",
   "execution_count": 92,
   "id": "470d3739-721e-449b-9e92-cd7274cef0a7",
   "metadata": {},
   "outputs": [],
   "source": [
    "df = dd.read_parquet('incidents_july_2020.parquet')  "
   ]
  },
  {
   "cell_type": "code",
   "execution_count": 93,
   "id": "47d0e1b8-a2a9-4859-9bf5-9af553da473a",
   "metadata": {},
   "outputs": [],
   "source": [
    "df[\"alarm_datetime\"] = df[\"alarm_datetime\"].map_partitions(pd.to_datetime,format='%Y-%m-%d %H:%M:%S.%f',meta = ('datetime64[ns]'))"
   ]
  },
  {
   "cell_type": "code",
   "execution_count": 94,
   "id": "6e80f71f-f393-49ca-81cf-2c501c4aa1b2",
   "metadata": {},
   "outputs": [],
   "source": [
    "df[\"alarm_date\"] = df[\"alarm_date\"].map_partitions(pd.to_datetime,format='%Y-%m-%d',meta = ('datetime64[ns]'))"
   ]
  },
  {
   "cell_type": "code",
   "execution_count": 95,
   "id": "fad6c362-8d8a-4fb0-9ddc-01dbeb94c92f",
   "metadata": {},
   "outputs": [],
   "source": [
    "df[\"month\"]=df[\"alarm_datetime\"].dt.month"
   ]
  },
  {
   "cell_type": "code",
   "execution_count": 96,
   "id": "1b18f7ca-4261-47d9-a126-78d72189bb90",
   "metadata": {},
   "outputs": [],
   "source": [
    "df[\"dayofweek\"]=df[\"alarm_datetime\"].dt.dayofweek"
   ]
  },
  {
   "cell_type": "code",
   "execution_count": 97,
   "id": "11e3d895-56bf-4f15-9557-26db64d9040a",
   "metadata": {},
   "outputs": [
    {
     "data": {
      "text/html": [
       "<div>\n",
       "<style scoped>\n",
       "    .dataframe tbody tr th:only-of-type {\n",
       "        vertical-align: middle;\n",
       "    }\n",
       "\n",
       "    .dataframe tbody tr th {\n",
       "        vertical-align: top;\n",
       "    }\n",
       "\n",
       "    .dataframe thead th {\n",
       "        text-align: right;\n",
       "    }\n",
       "</style>\n",
       "<table border=\"1\" class=\"dataframe\">\n",
       "  <thead>\n",
       "    <tr style=\"text-align: right;\">\n",
       "      <th></th>\n",
       "      <th>alarm_datetime</th>\n",
       "      <th>dayofweek</th>\n",
       "    </tr>\n",
       "  </thead>\n",
       "  <tbody>\n",
       "    <tr>\n",
       "      <th>0</th>\n",
       "      <td>2018-12-31 21:47:20.840</td>\n",
       "      <td>0</td>\n",
       "    </tr>\n",
       "    <tr>\n",
       "      <th>1</th>\n",
       "      <td>2018-12-31 21:59:06.560</td>\n",
       "      <td>0</td>\n",
       "    </tr>\n",
       "    <tr>\n",
       "      <th>2</th>\n",
       "      <td>2018-12-31 22:13:40.527</td>\n",
       "      <td>0</td>\n",
       "    </tr>\n",
       "    <tr>\n",
       "      <th>3</th>\n",
       "      <td>2018-12-31 22:13:59.627</td>\n",
       "      <td>0</td>\n",
       "    </tr>\n",
       "    <tr>\n",
       "      <th>4</th>\n",
       "      <td>2018-12-31 22:31:49.277</td>\n",
       "      <td>0</td>\n",
       "    </tr>\n",
       "    <tr>\n",
       "      <th>...</th>\n",
       "      <td>...</td>\n",
       "      <td>...</td>\n",
       "    </tr>\n",
       "    <tr>\n",
       "      <th>95</th>\n",
       "      <td>2019-01-01 17:50:29.677</td>\n",
       "      <td>1</td>\n",
       "    </tr>\n",
       "    <tr>\n",
       "      <th>96</th>\n",
       "      <td>2019-01-01 17:52:04.237</td>\n",
       "      <td>1</td>\n",
       "    </tr>\n",
       "    <tr>\n",
       "      <th>97</th>\n",
       "      <td>2019-01-01 17:53:55.580</td>\n",
       "      <td>1</td>\n",
       "    </tr>\n",
       "    <tr>\n",
       "      <th>98</th>\n",
       "      <td>2019-01-01 18:04:41.897</td>\n",
       "      <td>1</td>\n",
       "    </tr>\n",
       "    <tr>\n",
       "      <th>99</th>\n",
       "      <td>2019-01-01 18:12:03.443</td>\n",
       "      <td>1</td>\n",
       "    </tr>\n",
       "  </tbody>\n",
       "</table>\n",
       "<p>100 rows × 2 columns</p>\n",
       "</div>"
      ],
      "text/plain": [
       "            alarm_datetime  dayofweek\n",
       "0  2018-12-31 21:47:20.840          0\n",
       "1  2018-12-31 21:59:06.560          0\n",
       "2  2018-12-31 22:13:40.527          0\n",
       "3  2018-12-31 22:13:59.627          0\n",
       "4  2018-12-31 22:31:49.277          0\n",
       "..                     ...        ...\n",
       "95 2019-01-01 17:50:29.677          1\n",
       "96 2019-01-01 17:52:04.237          1\n",
       "97 2019-01-01 17:53:55.580          1\n",
       "98 2019-01-01 18:04:41.897          1\n",
       "99 2019-01-01 18:12:03.443          1\n",
       "\n",
       "[100 rows x 2 columns]"
      ]
     },
     "execution_count": 97,
     "metadata": {},
     "output_type": "execute_result"
    }
   ],
   "source": [
    "df[[\"alarm_datetime\",\"dayofweek\"]].head(100)"
   ]
  },
  {
   "cell_type": "code",
   "execution_count": 59,
   "id": "80ec84bf-28c3-4211-98c5-0c6d3a7617de",
   "metadata": {},
   "outputs": [],
   "source": [
    "dd.to_parquet(df,'incidents_july_2020_2.parquet')  "
   ]
  },
  {
   "cell_type": "code",
   "execution_count": 60,
   "id": "2778446c-11c8-43cc-8265-5416ceb872a2",
   "metadata": {},
   "outputs": [
    {
     "data": {
      "text/plain": [
       "Timestamp('2018-12-31 00:00:00')"
      ]
     },
     "execution_count": 60,
     "metadata": {},
     "output_type": "execute_result"
    }
   ],
   "source": [
    "df.alarm_date.min().compute()"
   ]
  },
  {
   "cell_type": "code",
   "execution_count": 98,
   "id": "b3cef70a-b74a-4d82-96ae-e2bbe1888f61",
   "metadata": {},
   "outputs": [],
   "source": [
    "df['time']=df['alarm_datetime'].dt.hour*3600+df['alarm_datetime'].dt.minute*60+df['alarm_datetime'].dt.second"
   ]
  },
  {
   "cell_type": "code",
   "execution_count": 80,
   "id": "6f760b85-aa41-44d2-a5a1-6b991bb03095",
   "metadata": {},
   "outputs": [],
   "source": [
    "df[\"time_s\"] = df[\"time\"].map_partitions(pd.to_datetime,format='%H:%M:%S',meta = ('datetime64[ns]'))"
   ]
  },
  {
   "cell_type": "code",
   "execution_count": 70,
   "id": "19aa40b8-c947-4f1f-8f68-5b04eef30288",
   "metadata": {},
   "outputs": [],
   "source": []
  },
  {
   "cell_type": "code",
   "execution_count": 99,
   "id": "da267fd5-6ae5-4854-980c-d3a3aca90339",
   "metadata": {},
   "outputs": [
    {
     "data": {
      "text/plain": [
       "0    78440\n",
       "Name: time, dtype: int64"
      ]
     },
     "execution_count": 99,
     "metadata": {},
     "output_type": "execute_result"
    }
   ],
   "source": [
    "df['time'].head(1)"
   ]
  },
  {
   "cell_type": "code",
   "execution_count": 65,
   "id": "e6747688-c3d6-446c-90ca-fa9b6721bd16",
   "metadata": {},
   "outputs": [
    {
     "data": {
      "text/plain": [
       "_id                             object\n",
       "incidentNumber                  object\n",
       "latitude                       float64\n",
       "longitude                      float64\n",
       "emdCardNumber                   object\n",
       "alarmDateTime                   object\n",
       "arrivalDateTime                 object\n",
       "weather                         object\n",
       "location.type                   object\n",
       "location.coordinates            object\n",
       "respondingVehicles              object\n",
       "fireZone                        object\n",
       "alarm_datetime          datetime64[ns]\n",
       "alarm_date              datetime64[ns]\n",
       "alarm_time                      object\n",
       "alarm_year                       int64\n",
       "responsetime                   float64\n",
       "month                            int64\n",
       "dayofweek                        int64\n",
       "time                            object\n",
       "time_s                  datetime64[ns]\n",
       "dtype: object"
      ]
     },
     "execution_count": 65,
     "metadata": {},
     "output_type": "execute_result"
    }
   ],
   "source": [
    "df.dtypes"
   ]
  },
  {
   "cell_type": "code",
   "execution_count": 22,
   "id": "785546d6-100c-4907-ba10-c38bd818b822",
   "metadata": {},
   "outputs": [
    {
     "data": {
      "text/plain": [
       "0    2018-12-31 21:47:20.840\n",
       "1    2018-12-31 21:59:06.560\n",
       "2    2018-12-31 22:13:40.527\n",
       "3    2018-12-31 22:13:59.627\n",
       "Name: alarm_datetime, dtype: object"
      ]
     },
     "execution_count": 22,
     "metadata": {},
     "output_type": "execute_result"
    }
   ],
   "source": [
    "df['alarm_datetime'].head(4)"
   ]
  },
  {
   "cell_type": "code",
   "execution_count": 7,
   "id": "d924e999-7ba9-4f7e-a2e9-9998b7be1e1c",
   "metadata": {},
   "outputs": [],
   "source": [
    "import pickle\n",
    "import _pickle as cPickle\n",
    "import pandas as pd"
   ]
  },
  {
   "cell_type": "code",
   "execution_count": 8,
   "id": "cfad5f70-56b4-4916-ab1d-6b5cc46b9c0a",
   "metadata": {},
   "outputs": [
    {
     "ename": "TypeError",
     "evalue": "file must have 'read' and 'readline' attributes",
     "output_type": "error",
     "traceback": [
      "\u001b[0;31m---------------------------------------------------------------------------\u001b[0m",
      "\u001b[0;31mTypeError\u001b[0m                                 Traceback (most recent call last)",
      "\u001b[0;32m<ipython-input-8-2b644621d78f>\u001b[0m in \u001b[0;36m<module>\u001b[0;34m\u001b[0m\n\u001b[0;32m----> 1\u001b[0;31m \u001b[0mdata\u001b[0m \u001b[0;34m=\u001b[0m \u001b[0mcPickle\u001b[0m\u001b[0;34m.\u001b[0m\u001b[0mload\u001b[0m\u001b[0;34m(\u001b[0m\u001b[0;34m'geo_out_july_2020_central_time'\u001b[0m\u001b[0;34m)\u001b[0m\u001b[0;34m\u001b[0m\u001b[0;34m\u001b[0m\u001b[0m\n\u001b[0m",
      "\u001b[0;31mTypeError\u001b[0m: file must have 'read' and 'readline' attributes"
     ]
    }
   ],
   "source": [
    "data = cPickle.load('geo_out_july_2020_central_time')"
   ]
  },
  {
   "cell_type": "code",
   "execution_count": 9,
   "id": "eb6dbeb9-1817-4d38-aded-d0e71a86a5a4",
   "metadata": {},
   "outputs": [],
   "source": [
    "import bz2\n",
    "import pickle\n",
    "import _pickle as cPickle\n",
    "import pandas as pd\n",
    "\n",
    "# Pickle a file and then compress it into a file with extension \n",
    "def compressed_pickle(title, data):\n",
    " with bz2.BZ2File(title + '.pbz2', 'w') as f: \n",
    " \tcPickle.dump(data, f)\n",
    "\n",
    "\n",
    "# Load any compressed pickle file\n",
    "def decompress_pickle(file):\n",
    " data = bz2.BZ2File(file, 'rb')\n",
    " data = cPickle.load(data)\n",
    " return data\n"
   ]
  },
  {
   "cell_type": "code",
   "execution_count": 10,
   "id": "f56e8682-c403-4f3a-88cd-4e7fe3b8cfee",
   "metadata": {},
   "outputs": [
    {
     "ename": "TypeError",
     "evalue": "__cinit__() takes at least 2 positional arguments (0 given)",
     "output_type": "error",
     "traceback": [
      "\u001b[0;31m---------------------------------------------------------------------------\u001b[0m",
      "\u001b[0;31mTypeError\u001b[0m                                 Traceback (most recent call last)",
      "\u001b[0;32m<ipython-input-10-53703978feb3>\u001b[0m in \u001b[0;36m<module>\u001b[0;34m\u001b[0m\n\u001b[0;32m----> 1\u001b[0;31m \u001b[0mdata\u001b[0m\u001b[0;34m=\u001b[0m\u001b[0mdecompress_pickle\u001b[0m\u001b[0;34m(\u001b[0m\u001b[0;34m'geo_out_july_2020_central_time.pbz2'\u001b[0m\u001b[0;34m)\u001b[0m\u001b[0;34m\u001b[0m\u001b[0;34m\u001b[0m\u001b[0m\n\u001b[0m",
      "\u001b[0;32m<ipython-input-9-5d0817eea2e6>\u001b[0m in \u001b[0;36mdecompress_pickle\u001b[0;34m(file)\u001b[0m\n\u001b[1;32m     13\u001b[0m \u001b[0;32mdef\u001b[0m \u001b[0mdecompress_pickle\u001b[0m\u001b[0;34m(\u001b[0m\u001b[0mfile\u001b[0m\u001b[0;34m)\u001b[0m\u001b[0;34m:\u001b[0m\u001b[0;34m\u001b[0m\u001b[0;34m\u001b[0m\u001b[0m\n\u001b[1;32m     14\u001b[0m  \u001b[0mdata\u001b[0m \u001b[0;34m=\u001b[0m \u001b[0mbz2\u001b[0m\u001b[0;34m.\u001b[0m\u001b[0mBZ2File\u001b[0m\u001b[0;34m(\u001b[0m\u001b[0mfile\u001b[0m\u001b[0;34m,\u001b[0m \u001b[0;34m'rb'\u001b[0m\u001b[0;34m)\u001b[0m\u001b[0;34m\u001b[0m\u001b[0;34m\u001b[0m\u001b[0m\n\u001b[0;32m---> 15\u001b[0;31m  \u001b[0mdata\u001b[0m \u001b[0;34m=\u001b[0m \u001b[0mcPickle\u001b[0m\u001b[0;34m.\u001b[0m\u001b[0mload\u001b[0m\u001b[0;34m(\u001b[0m\u001b[0mdata\u001b[0m\u001b[0;34m)\u001b[0m\u001b[0;34m\u001b[0m\u001b[0;34m\u001b[0m\u001b[0m\n\u001b[0m\u001b[1;32m     16\u001b[0m  \u001b[0;32mreturn\u001b[0m \u001b[0mdata\u001b[0m\u001b[0;34m\u001b[0m\u001b[0;34m\u001b[0m\u001b[0m\n",
      "\u001b[0;32m~/opt/anaconda3/envs/transit_occupancy/lib/python3.8/site-packages/pandas/_libs/internals.pyx\u001b[0m in \u001b[0;36mpandas._libs.internals.BlockManager.__cinit__\u001b[0;34m()\u001b[0m\n",
      "\u001b[0;31mTypeError\u001b[0m: __cinit__() takes at least 2 positional arguments (0 given)"
     ]
    }
   ],
   "source": [
    "data=decompress_pickle('geo_out_july_2020_central_time.pbz2')"
   ]
  },
  {
   "cell_type": "code",
   "execution_count": 13,
   "id": "582ed4d4-fcbd-4f4d-82fc-0cc1d66d3f9e",
   "metadata": {},
   "outputs": [],
   "source": [
    "data=pd.read_pickle('geo_out_july_2020_central_time')"
   ]
  },
  {
   "cell_type": "code",
   "execution_count": 19,
   "id": "83a761dc-fda6-4099-892a-ff0c0b46f5bf",
   "metadata": {},
   "outputs": [
    {
     "data": {
      "text/plain": [
       "0   2018-12-31 21:47:20.840\n",
       "1   2018-12-31 21:59:06.560\n",
       "2   2018-12-31 22:13:40.527\n",
       "3   2018-12-31 22:13:59.627\n",
       "Name: alarm_datetime, dtype: datetime64[ns]"
      ]
     },
     "execution_count": 19,
     "metadata": {},
     "output_type": "execute_result"
    }
   ],
   "source": [
    "data['alarm_datetime'].head(4)"
   ]
  },
  {
   "cell_type": "code",
   "execution_count": 26,
   "id": "dba966ba-1b9e-4a0c-b16b-212d09f04990",
   "metadata": {},
   "outputs": [
    {
     "data": {
      "text/plain": [
       "0         2018-12-31\n",
       "1         2018-12-31\n",
       "2         2018-12-31\n",
       "3         2018-12-31\n",
       "4         2018-12-31\n",
       "             ...    \n",
       "173712    2020-06-16\n",
       "173713    2020-06-16\n",
       "173714    2020-06-20\n",
       "173715    2020-06-20\n",
       "173716    2020-06-20\n",
       "Name: alarm_date, Length: 173717, dtype: object"
      ]
     },
     "execution_count": 26,
     "metadata": {},
     "output_type": "execute_result"
    }
   ],
   "source": [
    "data.alarm_date"
   ]
  },
  {
   "cell_type": "code",
   "execution_count": 25,
   "id": "da322c1e-ca02-4792-85df-716f112b17a0",
   "metadata": {},
   "outputs": [
    {
     "data": {
      "text/plain": [
       "_id                             object\n",
       "incidentNumber                  object\n",
       "latitude                       float64\n",
       "longitude                      float64\n",
       "emdCardNumber                   object\n",
       "alarmDateTime                   object\n",
       "arrivalDateTime                 object\n",
       "weather                         object\n",
       "location.type                   object\n",
       "location.coordinates            object\n",
       "respondingVehicles              object\n",
       "fireZone                        object\n",
       "alarm_datetime                  object\n",
       "alarm_date                      object\n",
       "alarm_time                      object\n",
       "alarm_year                       int64\n",
       "responsetime                   float64\n",
       "alarm_datetime2         datetime64[ns]\n",
       "dtype: object"
      ]
     },
     "execution_count": 25,
     "metadata": {},
     "output_type": "execute_result"
    }
   ],
   "source": [
    "df.dtypes"
   ]
  },
  {
   "cell_type": "code",
   "execution_count": 34,
   "id": "dbfed56f-a276-4ffa-836b-3dedd83b6080",
   "metadata": {},
   "outputs": [
    {
     "data": {
      "text/plain": [
       "_id                             object\n",
       "incidentNumber                  object\n",
       "latitude                       float64\n",
       "longitude                      float64\n",
       "emdCardNumber                   object\n",
       "alarmDateTime                   object\n",
       "arrivalDateTime                 object\n",
       "weather                         object\n",
       "location.type                   object\n",
       "location.coordinates            object\n",
       "respondingVehicles              object\n",
       "fireZone                        object\n",
       "alarm_datetime          datetime64[ns]\n",
       "alarm_date                      object\n",
       "alarm_time                      object\n",
       "alarm_year                       int64\n",
       "responsetime                   float64\n",
       "month                            int64\n",
       "dayofweek                        int64\n",
       "dayofweekname                   object\n",
       "severity                         int64\n",
       "dtype: object"
      ]
     },
     "execution_count": 34,
     "metadata": {},
     "output_type": "execute_result"
    }
   ],
   "source": [
    "data.dtypes"
   ]
  },
  {
   "cell_type": "code",
   "execution_count": 45,
   "id": "3f956467-4e3c-4691-82bc-c0e16e057aa9",
   "metadata": {},
   "outputs": [
    {
     "data": {
      "text/html": [
       "<div>\n",
       "<style scoped>\n",
       "    .dataframe tbody tr th:only-of-type {\n",
       "        vertical-align: middle;\n",
       "    }\n",
       "\n",
       "    .dataframe tbody tr th {\n",
       "        vertical-align: top;\n",
       "    }\n",
       "\n",
       "    .dataframe thead th {\n",
       "        text-align: right;\n",
       "    }\n",
       "</style>\n",
       "<table border=\"1\" class=\"dataframe\">\n",
       "  <thead>\n",
       "    <tr style=\"text-align: right;\">\n",
       "      <th></th>\n",
       "      <th>alarm_datetime</th>\n",
       "      <th>dayofweek</th>\n",
       "      <th>dayofweekname</th>\n",
       "    </tr>\n",
       "  </thead>\n",
       "  <tbody>\n",
       "    <tr>\n",
       "      <th>0</th>\n",
       "      <td>2018-12-31 21:47:20.840</td>\n",
       "      <td>0</td>\n",
       "      <td>Monday</td>\n",
       "    </tr>\n",
       "    <tr>\n",
       "      <th>1</th>\n",
       "      <td>2018-12-31 21:59:06.560</td>\n",
       "      <td>0</td>\n",
       "      <td>Monday</td>\n",
       "    </tr>\n",
       "    <tr>\n",
       "      <th>2</th>\n",
       "      <td>2018-12-31 22:13:40.527</td>\n",
       "      <td>0</td>\n",
       "      <td>Monday</td>\n",
       "    </tr>\n",
       "    <tr>\n",
       "      <th>3</th>\n",
       "      <td>2018-12-31 22:13:59.627</td>\n",
       "      <td>0</td>\n",
       "      <td>Monday</td>\n",
       "    </tr>\n",
       "    <tr>\n",
       "      <th>4</th>\n",
       "      <td>2018-12-31 22:31:49.277</td>\n",
       "      <td>0</td>\n",
       "      <td>Monday</td>\n",
       "    </tr>\n",
       "    <tr>\n",
       "      <th>...</th>\n",
       "      <td>...</td>\n",
       "      <td>...</td>\n",
       "      <td>...</td>\n",
       "    </tr>\n",
       "    <tr>\n",
       "      <th>95</th>\n",
       "      <td>2019-01-01 17:50:29.677</td>\n",
       "      <td>1</td>\n",
       "      <td>Tuesday</td>\n",
       "    </tr>\n",
       "    <tr>\n",
       "      <th>96</th>\n",
       "      <td>2019-01-01 17:52:04.237</td>\n",
       "      <td>1</td>\n",
       "      <td>Tuesday</td>\n",
       "    </tr>\n",
       "    <tr>\n",
       "      <th>97</th>\n",
       "      <td>2019-01-01 17:53:55.580</td>\n",
       "      <td>1</td>\n",
       "      <td>Tuesday</td>\n",
       "    </tr>\n",
       "    <tr>\n",
       "      <th>98</th>\n",
       "      <td>2019-01-01 18:04:41.897</td>\n",
       "      <td>1</td>\n",
       "      <td>Tuesday</td>\n",
       "    </tr>\n",
       "    <tr>\n",
       "      <th>99</th>\n",
       "      <td>2019-01-01 18:12:03.443</td>\n",
       "      <td>1</td>\n",
       "      <td>Tuesday</td>\n",
       "    </tr>\n",
       "  </tbody>\n",
       "</table>\n",
       "<p>100 rows × 3 columns</p>\n",
       "</div>"
      ],
      "text/plain": [
       "            alarm_datetime  dayofweek dayofweekname\n",
       "0  2018-12-31 21:47:20.840          0        Monday\n",
       "1  2018-12-31 21:59:06.560          0        Monday\n",
       "2  2018-12-31 22:13:40.527          0        Monday\n",
       "3  2018-12-31 22:13:59.627          0        Monday\n",
       "4  2018-12-31 22:31:49.277          0        Monday\n",
       "..                     ...        ...           ...\n",
       "95 2019-01-01 17:50:29.677          1       Tuesday\n",
       "96 2019-01-01 17:52:04.237          1       Tuesday\n",
       "97 2019-01-01 17:53:55.580          1       Tuesday\n",
       "98 2019-01-01 18:04:41.897          1       Tuesday\n",
       "99 2019-01-01 18:12:03.443          1       Tuesday\n",
       "\n",
       "[100 rows x 3 columns]"
      ]
     },
     "execution_count": 45,
     "metadata": {},
     "output_type": "execute_result"
    }
   ],
   "source": [
    "data[[\"alarm_datetime\",\"dayofweek\",\"dayofweekname\"]].head(100)"
   ]
  },
  {
   "cell_type": "code",
   "execution_count": null,
   "id": "00706d90-b5fa-464e-9e0f-1c8d5e034f00",
   "metadata": {},
   "outputs": [],
   "source": []
  }
 ],
 "metadata": {
  "kernelspec": {
   "display_name": "Python 3",
   "language": "python",
   "name": "python3"
  },
  "language_info": {
   "codemirror_mode": {
    "name": "ipython",
    "version": 3
   },
   "file_extension": ".py",
   "mimetype": "text/x-python",
   "name": "python",
   "nbconvert_exporter": "python",
   "pygments_lexer": "ipython3",
   "version": "3.8.10"
  }
 },
 "nbformat": 4,
 "nbformat_minor": 5
}
