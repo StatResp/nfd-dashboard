{
 "cells": [
  {
   "cell_type": "code",
   "execution_count": 178,
   "id": "5d823e8f-36f6-4d01-9226-adcf14b03455",
   "metadata": {},
   "outputs": [],
   "source": [
    "from pyspark.sql import SparkSession\n",
    "from pyspark import SparkContext,SparkConf\n",
    "from pyspark.sql import SQLContext\n",
    "from pyspark import SparkConf\n",
    "from pyspark.sql import SparkSession\n",
    "from pyspark.sql.functions import UserDefinedFunction,isnan, when, count, col, isnull,month, hour,year,minute,second,lower,lit,dayofweek,to_timestamp,to_date\n",
    "from pyspark.sql.types import TimestampType, DateType,DoubleType,FloatType\n",
    "from pyspark.sql import DataFrame\n",
    "from functools import reduce\n",
    "import pandas as pd\n",
    "import dateparser\n",
    "import json\n",
    "from functools import reduce\n",
    "from pyspark.sql import DataFrame"
   ]
  },
  {
   "cell_type": "code",
   "execution_count": 2,
   "id": "71a7f915-287d-45e9-a0d4-ef1c8d11873f",
   "metadata": {},
   "outputs": [],
   "source": [
    "spark = (\n",
    "    SparkSession.builder\n",
    "    .config('spark.executor.memory', '40g')\n",
    "    .config('spark.executor.cores', '20')\n",
    "    .config(\"spark.sql.session.timeZone\", \"America/Chicago\")\n",
    "    .config('spark.driver.memory','20g').master(\"spark://127.0.0.1:7077\").appName(\"nfd\")\n",
    "    .getOrCreate()\n",
    ")"
   ]
  },
  {
   "cell_type": "code",
   "execution_count": 242,
   "id": "f95526f1-fa44-4692-bb21-13e051cc274f",
   "metadata": {},
   "outputs": [],
   "source": [
    "path = \"dump_July_2020_to_august_26_2021_no_null.csv\"\n",
    "incidents = spark.read.option(\"header\",True).csv(path)"
   ]
  },
  {
   "cell_type": "code",
   "execution_count": 243,
   "id": "5f229e05-531f-43ac-8d64-b87c5e71c82e",
   "metadata": {},
   "outputs": [],
   "source": [
    "incidents=incidents.drop('location.type').drop('alarm_year').drop('_id').drop('respondingVehicles').drop('fireZone').drop('alarm_time').drop('alarm_datetime').drop('alarm_date').drop('location.coordinates')"
   ]
  },
  {
   "cell_type": "code",
   "execution_count": 244,
   "id": "adb97328-08f0-491f-845b-ba534a1cc549",
   "metadata": {},
   "outputs": [],
   "source": [
    "incidents=incidents.withColumn(\"alarm_datetime\",to_timestamp(\"alarmDateTime\")) "
   ]
  },
  {
   "cell_type": "code",
   "execution_count": 245,
   "id": "f17d9e53-b568-4be4-a2b1-b7453134ddf8",
   "metadata": {},
   "outputs": [],
   "source": [
    "incidents=incidents.withColumn(\"arrival_datetime\",to_timestamp(\"arrivalDateTime\")) "
   ]
  },
  {
   "cell_type": "code",
   "execution_count": 246,
   "id": "756c132d-7c0e-4088-8618-e0dd7d7d2ea2",
   "metadata": {},
   "outputs": [],
   "source": [
    "incidents=incidents.withColumn(\"alarm_date\",to_date(\"arrivalDateTime\")) "
   ]
  },
  {
   "cell_type": "code",
   "execution_count": 247,
   "id": "94b129a1-91fa-4d11-9ddc-bd726d1f7d3a",
   "metadata": {},
   "outputs": [],
   "source": [
    "incidents=incidents.withColumn(\"month\",month(\"alarm_date\")) "
   ]
  },
  {
   "cell_type": "code",
   "execution_count": 248,
   "id": "0cfa193c-aab8-429c-b5e2-44854e2dd1ea",
   "metadata": {},
   "outputs": [],
   "source": [
    "incidents=incidents.withColumn(\"alarm_year\",year(\"alarm_date\")) "
   ]
  },
  {
   "cell_type": "code",
   "execution_count": 249,
   "id": "5cc9ae20-462b-48a9-8783-e00da4e0e440",
   "metadata": {},
   "outputs": [],
   "source": [
    "incidents=incidents.withColumn(\"latitude\", incidents.latitude.cast('double'))"
   ]
  },
  {
   "cell_type": "code",
   "execution_count": 250,
   "id": "0ffe01e3-9b5b-4bb6-be1d-d37aa0df6205",
   "metadata": {},
   "outputs": [],
   "source": [
    "incidents=incidents.withColumn(\"longitude\", incidents.longitude.cast('double'))"
   ]
  },
  {
   "cell_type": "code",
   "execution_count": 251,
   "id": "051c046b-0095-4b11-a92c-9291eb987b10",
   "metadata": {},
   "outputs": [],
   "source": [
    "incidents=incidents.withColumn(\"responsetime\", (incidents.arrival_datetime.cast('long')-incidents.alarm_datetime.cast('long'))/60)"
   ]
  },
  {
   "cell_type": "code",
   "execution_count": 252,
   "id": "cc60c471-6dbd-4747-b55a-5fd5e2115f01",
   "metadata": {},
   "outputs": [],
   "source": [
    "incidents=incidents.drop('arrival_datetime')"
   ]
  },
  {
   "cell_type": "code",
   "execution_count": 253,
   "id": "bcf8dc43-5310-4658-828d-a61ad35952ee",
   "metadata": {},
   "outputs": [],
   "source": [
    "oldincidents=spark.read.load('/Users/abhishek/Desktop/nfd-dashboard/app/data/nfd/incidents_july_2020_2.parquet')"
   ]
  },
  {
   "cell_type": "code",
   "execution_count": 254,
   "id": "2db1d18f-4700-4954-a897-af7da3f7cff1",
   "metadata": {},
   "outputs": [],
   "source": [
    "oldincidents=oldincidents.drop('__null_dask_index__').drop('_id').drop('location.type').drop('time').drop('dayofweek').drop('respondingVehicles').drop('fireZone').drop('alarm_time').drop('location.coordinates')"
   ]
  },
  {
   "cell_type": "code",
   "execution_count": 255,
   "id": "d7d486be-6a09-47df-b579-4d6402a9bddc",
   "metadata": {},
   "outputs": [],
   "source": [
    "oldincidents=oldincidents.withColumn(\"month\",month(\"alarm_date\")) "
   ]
  },
  {
   "cell_type": "code",
   "execution_count": 256,
   "id": "297039d6-422d-4a22-b86f-acb5c7390ed6",
   "metadata": {},
   "outputs": [],
   "source": [
    "oldincidents=oldincidents.withColumn(\"alarm_year\",year(\"alarm_date\")) "
   ]
  },
  {
   "cell_type": "code",
   "execution_count": 257,
   "id": "1c78d661-8a01-48e7-8cb2-01419096dbcf",
   "metadata": {},
   "outputs": [],
   "source": [
    "oldincidents=oldincidents.sort(oldincidents.alarm_datetime.asc())"
   ]
  },
  {
   "cell_type": "code",
   "execution_count": 258,
   "id": "f6b4f2df-6ca4-4a0f-bb68-f704b3415b8c",
   "metadata": {},
   "outputs": [
    {
     "data": {
      "text/plain": [
       "[Row(incidentNumber='FFD18123100136507', latitude=36.15343989, longitude=-86.76606078, emdCardNumber='10D4', alarmDateTime='2019-01-01T00:04:01.677Z', arrivalDateTime='2018-12-31T18:06:35.78-06:00', weather='rain', alarm_datetime=datetime.datetime(2018, 12, 31, 12, 4, 1, 677000), alarm_date=datetime.datetime(2018, 12, 30, 18, 0), alarm_year=2018, responsetime=2.5683833333333337, month=12),\n",
       " Row(incidentNumber='FFD18123100136508', latitude=36.18651573, longitude=-86.77385822, emdCardNumber='26A1', alarmDateTime='2019-01-01T00:05:11.157Z', arrivalDateTime='2018-12-31T18:15:08.96-06:00', weather='rain', alarm_datetime=datetime.datetime(2018, 12, 31, 12, 5, 11, 157000), alarm_date=datetime.datetime(2018, 12, 30, 18, 0), alarm_year=2018, responsetime=9.963383333333333, month=12),\n",
       " Row(incidentNumber='FFD18123100136509', latitude=36.14180436, longitude=-86.78402494, emdCardNumber='17A2G', alarmDateTime='2019-01-01T00:12:43.227Z', arrivalDateTime='2018-12-31T18:17:49.52-06:00', weather='rain', alarm_datetime=datetime.datetime(2018, 12, 31, 12, 12, 43, 227000), alarm_date=datetime.datetime(2018, 12, 30, 18, 0), alarm_year=2018, responsetime=5.104883333333333, month=12),\n",
       " Row(incidentNumber='FFD18123100136510', latitude=36.29587588, longitude=-86.71821236, emdCardNumber='25A1', alarmDateTime='2019-01-01T00:16:12.520Z', arrivalDateTime='None', weather='rain', alarm_datetime=datetime.datetime(2018, 12, 31, 12, 16, 12, 520000), alarm_date=datetime.datetime(2018, 12, 30, 18, 0), alarm_year=2018, responsetime=None, month=12)]"
      ]
     },
     "execution_count": 258,
     "metadata": {},
     "output_type": "execute_result"
    }
   ],
   "source": [
    "oldincidents.take(4)"
   ]
  },
  {
   "cell_type": "code",
   "execution_count": 259,
   "id": "93ac8ed7-5836-47a4-91c5-178c60730a60",
   "metadata": {},
   "outputs": [
    {
     "name": "stdout",
     "output_type": "stream",
     "text": [
      "root\n",
      " |-- incidentNumber: string (nullable = true)\n",
      " |-- latitude: double (nullable = true)\n",
      " |-- longitude: double (nullable = true)\n",
      " |-- emdCardNumber: string (nullable = true)\n",
      " |-- alarmDateTime: string (nullable = true)\n",
      " |-- arrivalDateTime: string (nullable = true)\n",
      " |-- weather: string (nullable = true)\n",
      " |-- alarm_datetime: timestamp (nullable = true)\n",
      " |-- alarm_date: timestamp (nullable = true)\n",
      " |-- alarm_year: integer (nullable = true)\n",
      " |-- responsetime: double (nullable = true)\n",
      " |-- month: integer (nullable = true)\n",
      "\n"
     ]
    }
   ],
   "source": [
    "oldincidents.printSchema()"
   ]
  },
  {
   "cell_type": "code",
   "execution_count": 260,
   "id": "a98a2d38-af2e-4d4e-906f-ec24fb675cbd",
   "metadata": {},
   "outputs": [
    {
     "name": "stdout",
     "output_type": "stream",
     "text": [
      "root\n",
      " |-- incidentNumber: string (nullable = true)\n",
      " |-- latitude: double (nullable = true)\n",
      " |-- longitude: double (nullable = true)\n",
      " |-- emdCardNumber: string (nullable = true)\n",
      " |-- alarmDateTime: string (nullable = true)\n",
      " |-- arrivalDateTime: string (nullable = true)\n",
      " |-- weather: string (nullable = true)\n",
      " |-- alarm_datetime: timestamp (nullable = true)\n",
      " |-- alarm_date: date (nullable = true)\n",
      " |-- month: integer (nullable = true)\n",
      " |-- alarm_year: integer (nullable = true)\n",
      " |-- responsetime: double (nullable = true)\n",
      "\n"
     ]
    }
   ],
   "source": [
    "incidents.printSchema()"
   ]
  },
  {
   "cell_type": "code",
   "execution_count": 261,
   "id": "79160b55-f4ab-4559-8b87-c6247fd95505",
   "metadata": {},
   "outputs": [],
   "source": [
    "allincidents = incidents.union(oldincidents.select(incidents.columns))\n",
    "allincidents=allincidents.dropDuplicates(['incidentNumber']) \n",
    "allincidents=allincidents.sort(allincidents.alarm_datetime.asc())"
   ]
  },
  {
   "cell_type": "code",
   "execution_count": 262,
   "id": "3b112854-196f-4f63-b717-bb09fc074f74",
   "metadata": {},
   "outputs": [
    {
     "data": {
      "text/plain": [
       "[Row(incidentNumber='FFD18123100136507', latitude=36.15343989, longitude=-86.76606078, emdCardNumber='10D4', alarmDateTime='2019-01-01T00:04:01.677Z', arrivalDateTime='2018-12-31T18:06:35.78-06:00', weather='rain', alarm_datetime=datetime.datetime(2018, 12, 31, 12, 4, 1, 677000), alarm_date=datetime.datetime(2018, 12, 30, 18, 0), month=12, alarm_year=2018, responsetime=2.5683833333333337),\n",
       " Row(incidentNumber='FFD18123100136508', latitude=36.18651573, longitude=-86.77385822, emdCardNumber='26A1', alarmDateTime='2019-01-01T00:05:11.157Z', arrivalDateTime='2018-12-31T18:15:08.96-06:00', weather='rain', alarm_datetime=datetime.datetime(2018, 12, 31, 12, 5, 11, 157000), alarm_date=datetime.datetime(2018, 12, 30, 18, 0), month=12, alarm_year=2018, responsetime=9.963383333333333),\n",
       " Row(incidentNumber='FFD18123100136509', latitude=36.14180436, longitude=-86.78402494, emdCardNumber='17A2G', alarmDateTime='2019-01-01T00:12:43.227Z', arrivalDateTime='2018-12-31T18:17:49.52-06:00', weather='rain', alarm_datetime=datetime.datetime(2018, 12, 31, 12, 12, 43, 227000), alarm_date=datetime.datetime(2018, 12, 30, 18, 0), month=12, alarm_year=2018, responsetime=5.104883333333333),\n",
       " Row(incidentNumber='FFD18123100136510', latitude=36.29587588, longitude=-86.71821236, emdCardNumber='25A1', alarmDateTime='2019-01-01T00:16:12.520Z', arrivalDateTime='None', weather='rain', alarm_datetime=datetime.datetime(2018, 12, 31, 12, 16, 12, 520000), alarm_date=datetime.datetime(2018, 12, 30, 18, 0), month=12, alarm_year=2018, responsetime=None)]"
      ]
     },
     "execution_count": 262,
     "metadata": {},
     "output_type": "execute_result"
    }
   ],
   "source": [
    "allincidents.take(4)"
   ]
  },
  {
   "cell_type": "code",
   "execution_count": 263,
   "id": "2fb10d93-191c-4809-8b7b-a350cdbe5e2a",
   "metadata": {},
   "outputs": [],
   "source": [
    "allincidents.write.option(\"mapreduce.fileoutputcommitter.algorithm.version\", \"2\").format(\"parquet\").save(\"nfdincidents_till_July2021.parquet\")"
   ]
  },
  {
   "cell_type": "code",
   "execution_count": null,
   "id": "c8625fc9-81c3-414e-8324-0213bc0470cc",
   "metadata": {},
   "outputs": [],
   "source": []
  }
 ],
 "metadata": {
  "kernelspec": {
   "display_name": "Python 3",
   "language": "python",
   "name": "python3"
  },
  "language_info": {
   "codemirror_mode": {
    "name": "ipython",
    "version": 3
   },
   "file_extension": ".py",
   "mimetype": "text/x-python",
   "name": "python",
   "nbconvert_exporter": "python",
   "pygments_lexer": "ipython3",
   "version": "3.8.10"
  }
 },
 "nbformat": 4,
 "nbformat_minor": 5
}
