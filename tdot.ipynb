{
 "cells": [
  {
   "cell_type": "code",
   "execution_count": 6,
   "id": "707c86c0-1ced-4163-89fb-83190e97dac6",
   "metadata": {},
   "outputs": [],
   "source": [
    "import pandas as pd\n",
    "pd.set_option('display.max_columns', None)"
   ]
  },
  {
   "cell_type": "code",
   "execution_count": 7,
   "id": "3d4e6e90-9805-4249-b497-f05a95d22c06",
   "metadata": {},
   "outputs": [],
   "source": [
    "df=pd.read_pickle('/Users/abhishek/Vanderbilt/ScopeLabDataSets - General/statresp/data_main_4h_tdot/cleaned/after new data from tdot/incident/incident_xdsegid.pkl')"
   ]
  },
  {
   "cell_type": "code",
   "execution_count": 8,
   "id": "3d435388-70dd-44e6-be29-acfd13408190",
   "metadata": {},
   "outputs": [
    {
     "data": {
      "text/html": [
       "<div>\n",
       "<style scoped>\n",
       "    .dataframe tbody tr th:only-of-type {\n",
       "        vertical-align: middle;\n",
       "    }\n",
       "\n",
       "    .dataframe tbody tr th {\n",
       "        vertical-align: top;\n",
       "    }\n",
       "\n",
       "    .dataframe thead th {\n",
       "        text-align: right;\n",
       "    }\n",
       "</style>\n",
       "<table border=\"1\" class=\"dataframe\">\n",
       "  <thead>\n",
       "    <tr style=\"text-align: right;\">\n",
       "      <th></th>\n",
       "      <th>log_mle</th>\n",
       "      <th>county_incident</th>\n",
       "      <th>route</th>\n",
       "      <th>gps_coordinate_latitude</th>\n",
       "      <th>gps_coordinate_longitude</th>\n",
       "      <th>type_of_crash</th>\n",
       "      <th>total_killed</th>\n",
       "      <th>total_injured</th>\n",
       "      <th>total_incapcitating_injuries</th>\n",
       "      <th>total_other_injuries</th>\n",
       "      <th>total_vehicles</th>\n",
       "      <th>hazmat_involved</th>\n",
       "      <th>hit_and_run</th>\n",
       "      <th>id_original</th>\n",
       "      <th>on_highway_type</th>\n",
       "      <th>rail_crossing_identifier</th>\n",
       "      <th>relation_to_first_junction</th>\n",
       "      <th>relation_to_first_rdway</th>\n",
       "      <th>school_bus_related</th>\n",
       "      <th>traffic_land_private_way</th>\n",
       "      <th>updated_by</th>\n",
       "      <th>updated_on</th>\n",
       "      <th>urban_or_rural</th>\n",
       "      <th>special_case</th>\n",
       "      <th>case_number</th>\n",
       "      <th>crash_location</th>\n",
       "      <th>construction_zone_location</th>\n",
       "      <th>intersection_type</th>\n",
       "      <th>first_harmful_event</th>\n",
       "      <th>manner_of_first_collision</th>\n",
       "      <th>weather_conditions</th>\n",
       "      <th>light_conditions</th>\n",
       "      <th>locate_type</th>\n",
       "      <th>time_local</th>\n",
       "      <th>time</th>\n",
       "      <th>time_utc</th>\n",
       "      <th>year</th>\n",
       "      <th>month</th>\n",
       "      <th>day</th>\n",
       "      <th>day_of_week</th>\n",
       "      <th>weekend_or_not</th>\n",
       "      <th>hour</th>\n",
       "      <th>window</th>\n",
       "      <th>geometry</th>\n",
       "      <th>geometry_string</th>\n",
       "      <th>incident_id</th>\n",
       "      <th>dist_to_seg</th>\n",
       "      <th>xdsegid</th>\n",
       "      <th>grouped_xdsegid</th>\n",
       "      <th>frc</th>\n",
       "    </tr>\n",
       "  </thead>\n",
       "  <tbody>\n",
       "    <tr>\n",
       "      <th>0</th>\n",
       "      <td>15.538</td>\n",
       "      <td>shelby</td>\n",
       "      <td>I0240</td>\n",
       "      <td>35.101212</td>\n",
       "      <td>-89.870687</td>\n",
       "      <td>Prop Damage (over)</td>\n",
       "      <td>0</td>\n",
       "      <td>1</td>\n",
       "      <td>0</td>\n",
       "      <td>0</td>\n",
       "      <td>1</td>\n",
       "      <td>Unknown</td>\n",
       "      <td>No</td>\n",
       "      <td>79I0240001</td>\n",
       "      <td>--</td>\n",
       "      <td>--</td>\n",
       "      <td>NON_JUNCTION</td>\n",
       "      <td>Roadside -- Left</td>\n",
       "      <td>No</td>\n",
       "      <td>Trafficway - Open</td>\n",
       "      <td>TITAN IMPORT</td>\n",
       "      <td>14-SEP-17</td>\n",
       "      <td>--</td>\n",
       "      <td>0-NONE</td>\n",
       "      <td>300344248</td>\n",
       "      <td>Along Roadway</td>\n",
       "      <td>--</td>\n",
       "      <td>--</td>\n",
       "      <td>Concrete Traffic Barrier</td>\n",
       "      <td>NO COLLISION W/ VEHICLE</td>\n",
       "      <td>Clear</td>\n",
       "      <td>Dark-Lighted</td>\n",
       "      <td>Automatic</td>\n",
       "      <td>2017-04-01 00:10:00</td>\n",
       "      <td>2017-04-01 00:10:00-05:00</td>\n",
       "      <td>2017-04-01 05:10:00</td>\n",
       "      <td>2017</td>\n",
       "      <td>4</td>\n",
       "      <td>1</td>\n",
       "      <td>5</td>\n",
       "      <td>1</td>\n",
       "      <td>0</td>\n",
       "      <td>0</td>\n",
       "      <td>POINT (-89.87069 35.10121)</td>\n",
       "      <td>POINT (-89.870687 35.101212)</td>\n",
       "      <td>861229</td>\n",
       "      <td>0.692461</td>\n",
       "      <td>461626016.0</td>\n",
       "      <td>3010405.0</td>\n",
       "      <td>0.0</td>\n",
       "    </tr>\n",
       "  </tbody>\n",
       "</table>\n",
       "</div>"
      ],
      "text/plain": [
       "   log_mle county_incident  route  gps_coordinate_latitude  \\\n",
       "0   15.538          shelby  I0240                35.101212   \n",
       "\n",
       "   gps_coordinate_longitude       type_of_crash  total_killed  total_injured  \\\n",
       "0                -89.870687  Prop Damage (over)             0              1   \n",
       "\n",
       "   total_incapcitating_injuries  total_other_injuries  total_vehicles  \\\n",
       "0                             0                     0               1   \n",
       "\n",
       "  hazmat_involved hit_and_run id_original on_highway_type  \\\n",
       "0         Unknown          No  79I0240001              --   \n",
       "\n",
       "  rail_crossing_identifier relation_to_first_junction relation_to_first_rdway  \\\n",
       "0                       --               NON_JUNCTION        Roadside -- Left   \n",
       "\n",
       "  school_bus_related traffic_land_private_way    updated_by updated_on  \\\n",
       "0                 No        Trafficway - Open  TITAN IMPORT  14-SEP-17   \n",
       "\n",
       "  urban_or_rural special_case  case_number crash_location  \\\n",
       "0             --      0-NONE     300344248  Along Roadway   \n",
       "\n",
       "  construction_zone_location intersection_type       first_harmful_event  \\\n",
       "0                         --                --  Concrete Traffic Barrier   \n",
       "\n",
       "  manner_of_first_collision weather_conditions light_conditions locate_type  \\\n",
       "0   NO COLLISION W/ VEHICLE              Clear     Dark-Lighted   Automatic   \n",
       "\n",
       "           time_local                       time            time_utc  year  \\\n",
       "0 2017-04-01 00:10:00  2017-04-01 00:10:00-05:00 2017-04-01 05:10:00  2017   \n",
       "\n",
       "   month  day  day_of_week  weekend_or_not  hour  window  \\\n",
       "0      4    1            5               1     0       0   \n",
       "\n",
       "                     geometry               geometry_string  incident_id  \\\n",
       "0  POINT (-89.87069 35.10121)  POINT (-89.870687 35.101212)       861229   \n",
       "\n",
       "   dist_to_seg      xdsegid  grouped_xdsegid  frc  \n",
       "0     0.692461  461626016.0        3010405.0  0.0  "
      ]
     },
     "execution_count": 8,
     "metadata": {},
     "output_type": "execute_result"
    }
   ],
   "source": [
    "df.head(1)"
   ]
  },
  {
   "cell_type": "code",
   "execution_count": 11,
   "id": "e6c6ef88-4c80-4b66-ba21-263a764c4595",
   "metadata": {},
   "outputs": [],
   "source": [
    "import plotly.express as px"
   ]
  },
  {
   "cell_type": "code",
   "execution_count": 15,
   "id": "56fbcc7d-45c5-4e03-9374-5ef38348a417",
   "metadata": {},
   "outputs": [],
   "source": [
    "df2=pd.read_parquet('app/data/nfd/nfdincidents_till_July2021.parquet',engine='pyarrow')"
   ]
  },
  {
   "cell_type": "code",
   "execution_count": 16,
   "id": "8a76ac49-715e-44d6-a58a-0aec5acef346",
   "metadata": {},
   "outputs": [
    {
     "data": {
      "text/plain": [
       "incidentNumber             object\n",
       "latitude                  float64\n",
       "longitude                 float64\n",
       "emdCardNumber              object\n",
       "alarmDateTime              object\n",
       "arrivalDateTime            object\n",
       "weather                    object\n",
       "alarm_datetime     datetime64[ns]\n",
       "alarm_date         datetime64[ns]\n",
       "month                     float64\n",
       "alarm_year                float64\n",
       "responsetime              float64\n",
       "dtype: object"
      ]
     },
     "execution_count": 16,
     "metadata": {},
     "output_type": "execute_result"
    }
   ],
   "source": [
    "df2.dtypes"
   ]
  },
  {
   "cell_type": "code",
   "execution_count": 20,
   "id": "e280ab2f-2699-4d52-9dff-6bf626c4c585",
   "metadata": {},
   "outputs": [],
   "source": [
    "df=df.drop(['geometry'],axis=1)"
   ]
  },
  {
   "cell_type": "code",
   "execution_count": 39,
   "id": "2b92397e-7dca-45d1-886b-5dcdabd8855d",
   "metadata": {},
   "outputs": [],
   "source": [
    "df=df.rename(columns={\"case_number\":\"incidentNumber\",\"gps_coordinate_latitude\":\"latitude\",\"gps_coordinate_longitude\":\"longitude\",\"time_local\":\"alarm_datetime\"})"
   ]
  },
  {
   "cell_type": "code",
   "execution_count": 47,
   "id": "ea3a8dfa-c178-4313-b5ef-12a42ffbf86a",
   "metadata": {},
   "outputs": [],
   "source": [
    "df['month']=df.alarm_datetime.dt.month\n",
    "df['alarm_year']=df.alarm_datetime.dt.year\n",
    "df['dayofweek']=df.alarm_datetime.dt.dayofweek\n",
    "df['month-year']=df['alarm_datetime'].dt.strftime('%b %Y')\n",
    "df['time']=df['alarm_datetime'].dt.hour*3600+df['alarm_datetime'].dt.minute*60+df['alarm_datetime'].dt.second\n",
    "df['alarm_date']=df['alarm_datetime'].dt.to_pydatetime()\n"
   ]
  },
  {
   "cell_type": "code",
   "execution_count": 54,
   "id": "68443e12-7ba7-4972-8573-4588d986337e",
   "metadata": {},
   "outputs": [
    {
     "data": {
      "text/plain": [
       "0         Apr 2017\n",
       "1         Apr 2017\n",
       "2         Apr 2017\n",
       "3         Apr 2017\n",
       "4         Apr 2017\n",
       "            ...   \n",
       "819838    May 2021\n",
       "819839    May 2021\n",
       "819840    May 2021\n",
       "819841    May 2021\n",
       "819842    May 2021\n",
       "Name: month-year, Length: 819843, dtype: object"
      ]
     },
     "execution_count": 54,
     "metadata": {},
     "output_type": "execute_result"
    }
   ],
   "source": [
    "df['month-year']"
   ]
  },
  {
   "cell_type": "code",
   "execution_count": 55,
   "id": "8cf68d0f-d108-4464-a0b8-c92bda24b274",
   "metadata": {},
   "outputs": [],
   "source": [
    "df.to_parquet('app/tdot_incidents.parquet')"
   ]
  },
  {
   "cell_type": "code",
   "execution_count": 52,
   "id": "3b3ca79c-98bf-4845-ab1f-513ecaead76a",
   "metadata": {},
   "outputs": [
    {
     "data": {
      "text/plain": [
       "0             shelby\n",
       "1             shelby\n",
       "2             shelby\n",
       "3               dyer\n",
       "4            decatur\n",
       "             ...    \n",
       "819838        warren\n",
       "819839        shelby\n",
       "819840    montgomery\n",
       "819841         roane\n",
       "819842     henderson\n",
       "Name: county_incident, Length: 819843, dtype: object"
      ]
     },
     "execution_count": 52,
     "metadata": {},
     "output_type": "execute_result"
    }
   ],
   "source": [
    "df.county_incident "
   ]
  },
  {
   "cell_type": "code",
   "execution_count": null,
   "id": "f04a08a2-0065-4397-967d-de391f933944",
   "metadata": {},
   "outputs": [],
   "source": []
  }
 ],
 "metadata": {
  "kernelspec": {
   "display_name": "Python 3",
   "language": "python",
   "name": "python3"
  },
  "language_info": {
   "codemirror_mode": {
    "name": "ipython",
    "version": 3
   },
   "file_extension": ".py",
   "mimetype": "text/x-python",
   "name": "python",
   "nbconvert_exporter": "python",
   "pygments_lexer": "ipython3",
   "version": "3.8.10"
  }
 },
 "nbformat": 4,
 "nbformat_minor": 5
}
